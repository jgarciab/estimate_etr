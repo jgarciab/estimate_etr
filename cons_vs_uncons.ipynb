{
 "cells": [
  {
   "cell_type": "code",
   "execution_count": 1,
   "metadata": {},
   "outputs": [
    {
     "data": {
      "text/html": [
       "<style>.container { width:95% !important; }</style>"
      ],
      "text/plain": [
       "<IPython.core.display.HTML object>"
      ]
     },
     "metadata": {},
     "output_type": "display_data"
    }
   ],
   "source": [
    "import pandas as pd\n",
    "import pylab as plt\n",
    "import numpy as np\n",
    "import seaborn as sns\n",
    "import os\n",
    "import time\n",
    "import pickle\n",
    "\n",
    "from IPython.core.display import display, HTML\n",
    "display(HTML(\"<style>.container { width:95% !important; }</style>\"))\n",
    "\n",
    "%matplotlib inline\n",
    "\n",
    "sns.set(font_scale=1.4)\n",
    "sns.set_style(\"whitegrid\")"
   ]
  },
  {
   "cell_type": "code",
   "execution_count": null,
   "metadata": {},
   "outputs": [],
   "source": [
    "SELECT financialsALL.BvD, `consolidationCode`, `operatingRevenue`, `PLbeforeTax`, `Taxation`, `PLafterTax`, `deferredTaxes`, fixedAssets, tangibleFixedAssets,numberEmployees,loans,retainedEarnings\n",
    "FROM `financialsALL`\n",
    "WHERE year = 2016\n",
    "INTO OUTFILE '/datastore0/mysql/tmp/macro_2018.csv' FIELDS TERMINATED BY '\\t' ENCLOSED BY '' LINES TERMINATED BY '\\n'"
   ]
  },
  {
   "cell_type": "code",
   "execution_count": 4,
   "metadata": {},
   "outputs": [],
   "source": [
    "!cp /datastore0/mysql/tmp/macro_2018.csv ./data/macro_2018.csv"
   ]
  },
  {
   "cell_type": "code",
   "execution_count": 3,
   "metadata": {},
   "outputs": [],
   "source": [
    "#load guos\n",
    "path = \"/datastore/shared_public/process_orbis_data/data/2017_12/cleaned/ownership/\"\n",
    "guos = sorted(['20180416_guos_2016.csv'])\n",
    "\n",
    "d_guo = dict()\n",
    "for guo in guos:\n",
    "    with open(path+guo) as f:\n",
    "        for line in f:\n",
    "            splits =  line.strip().split()\n",
    "            d_guo[splits[1]] = splits[-1]\n",
    "\n",
    "    "
   ]
  },
  {
   "cell_type": "code",
   "execution_count": 9,
   "metadata": {},
   "outputs": [],
   "source": [
    "#Read file\n",
    "names = [\"BvD\", \"consolidationCode\", \"operatingRevenue\", \"PLbeforeTax\", \"Taxation\", \"PLafterTax\", \"deferredTaxes\",  \"fixedAssets\", \"tangibleFixedAssets\",\"numberEmployees\",\"loans\",\"retainedEarnings\"]\n",
    "macro_data = pd.read_csv(\"./data/macro_2018.csv\",sep=\"\\t\",names=names,na_values=[\"\\\\N\"])\n",
    "\n",
    "#add guo\n",
    "macro_data[\"guo\"] = macro_data[\"BvD\"].apply(lambda x: d_guo[x] if d_guo.get(x) is not None else x)"
   ]
  },
  {
   "cell_type": "code",
   "execution_count": 18,
   "metadata": {},
   "outputs": [],
   "source": [
    "fields = [\"operatingRevenue\",\"PLbeforeTax\",\"Taxation\",\"PLafterTax\",\"deferredTaxes\",\"fixedAssets\",\"tangibleFixedAssets\",\"numberEmployees\",\"loans\",\"retainedEarnings\"]"
   ]
  },
  {
   "cell_type": "code",
   "execution_count": 224,
   "metadata": {
    "scrolled": true
   },
   "outputs": [],
   "source": [
    "#all_coverage = []\n",
    "for guo,data in macro_data.groupby(\"guo\"):\n",
    "    if guo in studied:\n",
    "        continue\n",
    "    if len(data)>10:\n",
    "        cov = (data.loc[data[\"consolidationCode\"].str[0]!=\"C\",fields].sum()/\n",
    "                data.loc[data[\"consolidationCode\"].str[0]==\"C\",fields].max()).reset_index()\n",
    "        cov2 = data.loc[data[\"consolidationCode\"].str[0]==\"C\",fields].max().reset_index()\n",
    "        cov.columns = [\"field\",\"coverage\"]\n",
    "        cov2.columns = [\"field\",\"total\"]\n",
    "        cov = pd.merge(cov,cov2)\n",
    "        cov[\"company\"] = guo\n",
    "        all_coverage.append(cov)"
   ]
  },
  {
   "cell_type": "code",
   "execution_count": 234,
   "metadata": {},
   "outputs": [
    {
     "data": {
      "text/plain": [
       "19473"
      ]
     },
     "execution_count": 234,
     "metadata": {},
     "output_type": "execute_result"
    }
   ],
   "source": [
    "len(all_coverage)"
   ]
  },
  {
   "cell_type": "code",
   "execution_count": 225,
   "metadata": {},
   "outputs": [
    {
     "data": {
      "text/html": [
       "<div>\n",
       "<style scoped>\n",
       "    .dataframe tbody tr th:only-of-type {\n",
       "        vertical-align: middle;\n",
       "    }\n",
       "\n",
       "    .dataframe tbody tr th {\n",
       "        vertical-align: top;\n",
       "    }\n",
       "\n",
       "    .dataframe thead th {\n",
       "        text-align: right;\n",
       "    }\n",
       "</style>\n",
       "<table border=\"1\" class=\"dataframe\">\n",
       "  <thead>\n",
       "    <tr style=\"text-align: right;\">\n",
       "      <th></th>\n",
       "      <th>field</th>\n",
       "      <th>coverage</th>\n",
       "      <th>total</th>\n",
       "      <th>company</th>\n",
       "    </tr>\n",
       "  </thead>\n",
       "  <tbody>\n",
       "    <tr>\n",
       "      <th>0</th>\n",
       "      <td>operatingRevenue</td>\n",
       "      <td>0.217206</td>\n",
       "      <td>252741566.0</td>\n",
       "      <td>ADFEB32845</td>\n",
       "    </tr>\n",
       "    <tr>\n",
       "      <th>1</th>\n",
       "      <td>PLbeforeTax</td>\n",
       "      <td>0.042470</td>\n",
       "      <td>66279702.0</td>\n",
       "      <td>ADFEB32845</td>\n",
       "    </tr>\n",
       "    <tr>\n",
       "      <th>2</th>\n",
       "      <td>Taxation</td>\n",
       "      <td>0.000000</td>\n",
       "      <td>52705.0</td>\n",
       "      <td>ADFEB32845</td>\n",
       "    </tr>\n",
       "    <tr>\n",
       "      <th>3</th>\n",
       "      <td>PLafterTax</td>\n",
       "      <td>0.125967</td>\n",
       "      <td>68567099.0</td>\n",
       "      <td>ADFEB32845</td>\n",
       "    </tr>\n",
       "    <tr>\n",
       "      <th>5</th>\n",
       "      <td>fixedAssets</td>\n",
       "      <td>0.033766</td>\n",
       "      <td>327369740.0</td>\n",
       "      <td>ADFEB32845</td>\n",
       "    </tr>\n",
       "    <tr>\n",
       "      <th>0</th>\n",
       "      <td>operatingRevenue</td>\n",
       "      <td>0.493333</td>\n",
       "      <td>104785053.0</td>\n",
       "      <td>AE*901727278</td>\n",
       "    </tr>\n",
       "    <tr>\n",
       "      <th>1</th>\n",
       "      <td>PLbeforeTax</td>\n",
       "      <td>0.948808</td>\n",
       "      <td>6787375.0</td>\n",
       "      <td>AE*901727278</td>\n",
       "    </tr>\n",
       "    <tr>\n",
       "      <th>2</th>\n",
       "      <td>Taxation</td>\n",
       "      <td>0.204984</td>\n",
       "      <td>1776032.0</td>\n",
       "      <td>AE*901727278</td>\n",
       "    </tr>\n",
       "    <tr>\n",
       "      <th>3</th>\n",
       "      <td>PLafterTax</td>\n",
       "      <td>0.000000</td>\n",
       "      <td>5011343.0</td>\n",
       "      <td>AE*901727278</td>\n",
       "    </tr>\n",
       "    <tr>\n",
       "      <th>5</th>\n",
       "      <td>fixedAssets</td>\n",
       "      <td>0.000000</td>\n",
       "      <td>61328836.0</td>\n",
       "      <td>AE*901727278</td>\n",
       "    </tr>\n",
       "  </tbody>\n",
       "</table>\n",
       "</div>"
      ],
      "text/plain": [
       "              field  coverage        total       company\n",
       "0  operatingRevenue  0.217206  252741566.0    ADFEB32845\n",
       "1       PLbeforeTax  0.042470   66279702.0    ADFEB32845\n",
       "2          Taxation  0.000000      52705.0    ADFEB32845\n",
       "3        PLafterTax  0.125967   68567099.0    ADFEB32845\n",
       "5       fixedAssets  0.033766  327369740.0    ADFEB32845\n",
       "0  operatingRevenue  0.493333  104785053.0  AE*901727278\n",
       "1       PLbeforeTax  0.948808    6787375.0  AE*901727278\n",
       "2          Taxation  0.204984    1776032.0  AE*901727278\n",
       "3        PLafterTax  0.000000    5011343.0  AE*901727278\n",
       "5       fixedAssets  0.000000   61328836.0  AE*901727278"
      ]
     },
     "execution_count": 225,
     "metadata": {},
     "output_type": "execute_result"
    }
   ],
   "source": [
    "ac = pd.concat(all_coverage).dropna().drop_duplicates()\n",
    "ac.loc[(ac[\"coverage\"]<0)|(ac[\"coverage\"]>1),\"coverage\"] = 0\n",
    "ac.head(10)"
   ]
  },
  {
   "cell_type": "code",
   "execution_count": 226,
   "metadata": {},
   "outputs": [
    {
     "data": {
      "text/html": [
       "<div>\n",
       "<style scoped>\n",
       "    .dataframe tbody tr th:only-of-type {\n",
       "        vertical-align: middle;\n",
       "    }\n",
       "\n",
       "    .dataframe tbody tr th {\n",
       "        vertical-align: top;\n",
       "    }\n",
       "\n",
       "    .dataframe thead th {\n",
       "        text-align: right;\n",
       "    }\n",
       "</style>\n",
       "<table border=\"1\" class=\"dataframe\">\n",
       "  <thead>\n",
       "    <tr style=\"text-align: right;\">\n",
       "      <th></th>\n",
       "      <th>coverage</th>\n",
       "      <th>total</th>\n",
       "    </tr>\n",
       "    <tr>\n",
       "      <th>field</th>\n",
       "      <th></th>\n",
       "      <th></th>\n",
       "    </tr>\n",
       "  </thead>\n",
       "  <tbody>\n",
       "    <tr>\n",
       "      <th>PLafterTax</th>\n",
       "      <td>0.172085</td>\n",
       "      <td>2.176150e+08</td>\n",
       "    </tr>\n",
       "    <tr>\n",
       "      <th>PLbeforeTax</th>\n",
       "      <td>0.186131</td>\n",
       "      <td>2.895053e+08</td>\n",
       "    </tr>\n",
       "    <tr>\n",
       "      <th>Taxation</th>\n",
       "      <td>0.258738</td>\n",
       "      <td>7.604080e+07</td>\n",
       "    </tr>\n",
       "    <tr>\n",
       "      <th>deferredTaxes</th>\n",
       "      <td>0.040624</td>\n",
       "      <td>2.301970e+08</td>\n",
       "    </tr>\n",
       "    <tr>\n",
       "      <th>fixedAssets</th>\n",
       "      <td>0.150805</td>\n",
       "      <td>3.792623e+09</td>\n",
       "    </tr>\n",
       "    <tr>\n",
       "      <th>loans</th>\n",
       "      <td>0.056779</td>\n",
       "      <td>5.967200e+08</td>\n",
       "    </tr>\n",
       "    <tr>\n",
       "      <th>numberEmployees</th>\n",
       "      <td>0.350063</td>\n",
       "      <td>9.825319e+03</td>\n",
       "    </tr>\n",
       "    <tr>\n",
       "      <th>operatingRevenue</th>\n",
       "      <td>0.269279</td>\n",
       "      <td>3.023670e+09</td>\n",
       "    </tr>\n",
       "    <tr>\n",
       "      <th>retainedEarnings</th>\n",
       "      <td>0.047759</td>\n",
       "      <td>2.049980e+09</td>\n",
       "    </tr>\n",
       "  </tbody>\n",
       "</table>\n",
       "</div>"
      ],
      "text/plain": [
       "                  coverage         total\n",
       "field                                   \n",
       "PLafterTax        0.172085  2.176150e+08\n",
       "PLbeforeTax       0.186131  2.895053e+08\n",
       "Taxation          0.258738  7.604080e+07\n",
       "deferredTaxes     0.040624  2.301970e+08\n",
       "fixedAssets       0.150805  3.792623e+09\n",
       "loans             0.056779  5.967200e+08\n",
       "numberEmployees   0.350063  9.825319e+03\n",
       "operatingRevenue  0.269279  3.023670e+09\n",
       "retainedEarnings  0.047759  2.049980e+09"
      ]
     },
     "execution_count": 226,
     "metadata": {},
     "output_type": "execute_result"
    }
   ],
   "source": [
    "means = ac.groupby(\"field\").mean()\n",
    "means"
   ]
  },
  {
   "cell_type": "code",
   "execution_count": 227,
   "metadata": {},
   "outputs": [],
   "source": [
    "def weighted_mean(x,df):\n",
    "    null = ~np.isnan(x)\n",
    "    if np.sum(null) == 0:\n",
    "        return np.NaN\n",
    "    try:\n",
    "        return np.average(x[null], weights=df.loc[x.index, \"total\"].values[null])\n",
    "    except:#fails if weights are zero\n",
    "        return np.NaN"
   ]
  },
  {
   "cell_type": "code",
   "execution_count": 228,
   "metadata": {},
   "outputs": [
    {
     "data": {
      "text/plain": [
       "0.22371626520315166"
      ]
     },
     "execution_count": 228,
     "metadata": {},
     "output_type": "execute_result"
    }
   ],
   "source": [
    "x = ac.loc[ac[\"field\"] == \"PLbeforeTax\"]\n",
    "np.sum(x[\"coverage\"]*x[\"total\"])/np.sum(x[\"total\"])"
   ]
  },
  {
   "cell_type": "code",
   "execution_count": 229,
   "metadata": {},
   "outputs": [
    {
     "name": "stdout",
     "output_type": "stream",
     "text": [
      "PLbeforeTax 0.22371626520315163\n",
      "fixedAssets 0.20609934593504786\n",
      "operatingRevenue 0.28580220897444286\n",
      "Taxation 0.2637228107848517\n",
      "numberEmployees 0.3174303904681481\n"
     ]
    }
   ],
   "source": [
    "dict_weighted = dict()\n",
    "options = [\"PLbeforeTax\",\"fixedAssets\",\"operatingRevenue\",\"Taxation\",\"numberEmployees\"]\n",
    "for o in options:\n",
    "    data = ac.loc[ac[\"field\"]==o]\n",
    "    print(o,np.sum(data[\"coverage\"]*data[\"total\"]/np.sum(data[\"total\"])))\n",
    "    dict_weighted[o] = 100*np.sum(data[\"coverage\"]*data[\"total\"]/np.sum(data[\"total\"]))\n",
    "data_ac = ac.loc[ac[\"field\"].isin(options)]"
   ]
  },
  {
   "cell_type": "code",
   "execution_count": 230,
   "metadata": {},
   "outputs": [
    {
     "name": "stderr",
     "output_type": "stream",
     "text": [
      "/opt/anaconda/anaconda3/lib/python3.5/site-packages/ipykernel/__main__.py:1: SettingWithCopyWarning: \n",
      "A value is trying to be set on a copy of a slice from a DataFrame.\n",
      "Try using .loc[row_indexer,col_indexer] = value instead\n",
      "\n",
      "See the caveats in the documentation: http://pandas.pydata.org/pandas-docs/stable/indexing.html#indexing-view-versus-copy\n",
      "  if __name__ == '__main__':\n"
     ]
    }
   ],
   "source": [
    "data_ac[\"coverage\"] *= 100"
   ]
  },
  {
   "cell_type": "code",
   "execution_count": 235,
   "metadata": {},
   "outputs": [
    {
     "name": "stderr",
     "output_type": "stream",
     "text": [
      "/opt/anaconda/anaconda3/lib/python3.5/site-packages/matplotlib/axes/_axes.py:6462: UserWarning: The 'normed' kwarg is deprecated, and has been replaced by the 'density' kwarg.\n",
      "  warnings.warn(\"The 'normed' kwarg is deprecated, and has been \"\n"
     ]
    },
    {
     "data": {
      "text/plain": [
       "<seaborn.axisgrid.FacetGrid at 0x7f721932c6d8>"
      ]
     },
     "execution_count": 235,
     "metadata": {},
     "output_type": "execute_result"
    },
    {
     "data": {
      "image/png": "[encoded data removed]",
      "text/plain": [
       "<Figure size 540x540 with 5 Axes>"
      ]
     },
     "metadata": {},
     "output_type": "display_data"
    }
   ],
   "source": [
    "import numpy as np\n",
    "import pandas as pd\n",
    "import seaborn as sns\n",
    "import matplotlib.pyplot as plt\n",
    "sns.set(style=\"white\", rc={\"axes.facecolor\": (0, 0, 0, 0)})\n",
    "\n",
    "\n",
    "# Initialize the FacetGrid object\n",
    "pal = sns.cubehelix_palette(5, rot=-.25, light=.7)\n",
    "g = sns.FacetGrid(data_ac, row=\"field\", hue=\"field\", aspect=5,size=1.5, palette=pal)\n",
    "\n",
    "\n",
    "# Define and use a simple function to label the plot in axes coordinates\n",
    "def hist2(x, clip_on,bins,alpha,color,label):\n",
    "    ax = plt.gca()\n",
    "    weights = data_ac.loc[data_ac[\"field\"]==label,\"total\"]\n",
    "    ax.hist(x,normed=True,clip_on=clip_on,bins=bins,alpha=alpha,color=color,weights=weights)\n",
    "\n",
    "    \n",
    "    \n",
    "# Draw the densities in a few steps\n",
    "g.map(hist2, \"coverage\",clip_on=False,bins=np.linspace(0,100,50),alpha=0.3,color=\"gray\")#, shade=True, alpha=1, lw=1.5, bw=.2)\n",
    "#g.map(plt.hist, \"coverage\",clip_on=False,bins=np.linspace(0,100,50),alpha=0.3,color=\"gray\",normed=True)#, shade=True, alpha=1, lw=1.5, bw=.2)\n",
    "#g.map(sns.kdeplot, \"coverage2\",weights=, clip_on=False, color=\"w\", lw=2, bw=.2)\n",
    "g.map(plt.axhline, y=0, lw=2, clip_on=False)\n",
    "\n",
    "\n",
    "# Define and use a simple function to label the plot in axes coordinates\n",
    "def label(x, color, label):\n",
    "    ax = plt.gca()\n",
    "    ax.text(0.1, .2, \"{}. Mean coverage: {:2.0f}%\".format(label,dict_weighted[label] ),#100*means.loc[mean].values[0]),\n",
    "    #ax.text(0.1, .2, \"{}. Mean coverage: {:2.0f}%\".format(label,100*means.loc[label].values[0]),\n",
    "            color=\"k\",\n",
    "            ha=\"left\", va=\"center\", transform=ax.transAxes)\n",
    "\n",
    "\n",
    "g.map(label, \"coverage\")\n",
    "\n",
    "# Set the subplots to overlap\n",
    "g.fig.subplots_adjust(hspace=-.5)\n",
    "\n",
    "# Remove axes details that don't play well with overlap\n",
    "g.set_titles(\"\")\n",
    "g.set(yticks=[])\n",
    "g.despine(bottom=True, left=True)"
   ]
  },
  {
   "cell_type": "code",
   "execution_count": 236,
   "metadata": {},
   "outputs": [
    {
     "name": "stderr",
     "output_type": "stream",
     "text": [
      "/opt/anaconda/anaconda3/lib/python3.5/site-packages/matplotlib/axes/_axes.py:6462: UserWarning: The 'normed' kwarg is deprecated, and has been replaced by the 'density' kwarg.\n",
      "  warnings.warn(\"The 'normed' kwarg is deprecated, and has been \"\n"
     ]
    },
    {
     "data": {
      "text/plain": [
       "Text(0.5,0,'Number of statistics')"
      ]
     },
     "execution_count": 236,
     "metadata": {},
     "output_type": "execute_result"
    },
    {
     "data": {
      "image/png": "[encoded data removed]",
      "text/plain": [
       "<Figure size 432x288 with 1 Axes>"
      ]
     },
     "metadata": {},
     "output_type": "display_data"
    }
   ],
   "source": [
    "values = ac.loc[ac[\"field\"].isin(set(options))].groupby(\"company\").apply(lambda x: np.sum(x[\"coverage\"]>0.5))\n",
    "plt.hist(values,bins=[-0.5,0.5,1.5,2.5,3.5,4.5,5.5],width=0.7,normed=True)\n",
    "plt.ylabel(\"Freq\")\n",
    "plt.xlabel(\"Number of statistics\")"
   ]
  },
  {
   "cell_type": "code",
   "execution_count": null,
   "metadata": {},
   "outputs": [],
   "source": []
  },
  {
   "cell_type": "code",
   "execution_count": null,
   "metadata": {},
   "outputs": [],
   "source": []
  }
 ],
 "metadata": {
  "anaconda-cloud": {},
  "kernelspec": {
   "display_name": "Python [default]",
   "language": "python",
   "name": "python3"
  },
  "language_info": {
   "codemirror_mode": {
    "name": "ipython",
    "version": 3
   },
   "file_extension": ".py",
   "mimetype": "text/x-python",
   "name": "python",
   "nbconvert_exporter": "python",
   "pygments_lexer": "ipython3",
   "version": "3.5.4"
  }
 },
 "nbformat": 4,
 "nbformat_minor": 1
}
